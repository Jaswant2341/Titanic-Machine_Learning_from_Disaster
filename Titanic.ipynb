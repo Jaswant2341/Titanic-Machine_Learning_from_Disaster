{
 "cells": [
  {
   "cell_type": "code",
   "execution_count": 1,
   "id": "reduced-association",
   "metadata": {
    "_cell_guid": "b1076dfc-b9ad-4769-8c92-a6c4dae69d19",
    "_uuid": "8f2839f25d086af736a60e9eeb907d3b93b6e0e5",
    "execution": {
     "iopub.execute_input": "2021-05-14T18:05:16.753059Z",
     "iopub.status.busy": "2021-05-14T18:05:16.752339Z",
     "iopub.status.idle": "2021-05-14T18:05:16.759075Z",
     "shell.execute_reply": "2021-05-14T18:05:16.759646Z"
    },
    "papermill": {
     "duration": 0.049897,
     "end_time": "2021-05-14T18:05:16.759954",
     "exception": false,
     "start_time": "2021-05-14T18:05:16.710057",
     "status": "completed"
    },
    "tags": []
   },
   "outputs": [
    {
     "name": "stdout",
     "output_type": "stream",
     "text": [
      "/kaggle/input/titanic/train.csv\n",
      "/kaggle/input/titanic/test.csv\n",
      "/kaggle/input/titanic/gender_submission.csv\n"
     ]
    }
   ],
   "source": [
    "# This Python 3 environment comes with many helpful analytics libraries installed\n",
    "# It is defined by the kaggle/python Docker image: https://github.com/kaggle/docker-python\n",
    "# For example, here's several helpful packages to load\n",
    "\n",
    "import numpy as np # linear algebra\n",
    "import pandas as pd # data processing, CSV file I/O (e.g. pd.read_csv)\n",
    "\n",
    "# Input data files are available in the read-only \"../input/\" directory\n",
    "# For example, running this (by clicking run or pressing Shift+Enter) will list all files under the input directory\n",
    "\n",
    "import os\n",
    "for dirname, _, filenames in os.walk('/kaggle/input'):\n",
    "    for filename in filenames:\n",
    "        print(os.path.join(dirname, filename))\n",
    "\n",
    "# You can write up to 20GB to the current directory (/kaggle/working/) that gets preserved as output when you create a version using \"Save & Run All\" \n",
    "# You can also write temporary files to /kaggle/temp/, but they won't be saved outside of the current session"
   ]
  },
  {
   "cell_type": "code",
   "execution_count": 2,
   "id": "aggressive-individual",
   "metadata": {
    "execution": {
     "iopub.execute_input": "2021-05-14T18:05:16.828123Z",
     "iopub.status.busy": "2021-05-14T18:05:16.827440Z",
     "iopub.status.idle": "2021-05-14T18:05:17.841002Z",
     "shell.execute_reply": "2021-05-14T18:05:17.840393Z"
    },
    "papermill": {
     "duration": 1.04921,
     "end_time": "2021-05-14T18:05:17.841159",
     "exception": false,
     "start_time": "2021-05-14T18:05:16.791949",
     "status": "completed"
    },
    "tags": []
   },
   "outputs": [],
   "source": [
    "import matplotlib.pyplot as plt\n",
    "import seaborn as sns"
   ]
  },
  {
   "cell_type": "code",
   "execution_count": 3,
   "id": "right-group",
   "metadata": {
    "execution": {
     "iopub.execute_input": "2021-05-14T18:05:17.911176Z",
     "iopub.status.busy": "2021-05-14T18:05:17.910469Z",
     "iopub.status.idle": "2021-05-14T18:05:17.927988Z",
     "shell.execute_reply": "2021-05-14T18:05:17.927433Z"
    },
    "papermill": {
     "duration": 0.05471,
     "end_time": "2021-05-14T18:05:17.928150",
     "exception": false,
     "start_time": "2021-05-14T18:05:17.873440",
     "status": "completed"
    },
    "tags": []
   },
   "outputs": [],
   "source": [
    "train_df=pd.read_csv(\"/kaggle/input/titanic/train.csv\")"
   ]
  },
  {
   "cell_type": "code",
   "execution_count": 4,
   "id": "quantitative-jenny",
   "metadata": {
    "execution": {
     "iopub.execute_input": "2021-05-14T18:05:17.996291Z",
     "iopub.status.busy": "2021-05-14T18:05:17.995601Z",
     "iopub.status.idle": "2021-05-14T18:05:18.009000Z",
     "shell.execute_reply": "2021-05-14T18:05:18.008404Z"
    },
    "papermill": {
     "duration": 0.048665,
     "end_time": "2021-05-14T18:05:18.009145",
     "exception": false,
     "start_time": "2021-05-14T18:05:17.960480",
     "status": "completed"
    },
    "tags": []
   },
   "outputs": [],
   "source": [
    "test_df=pd.read_csv(\"/kaggle/input/titanic/test.csv\")"
   ]
  },
  {
   "cell_type": "code",
   "execution_count": 5,
   "id": "professional-constitutional",
   "metadata": {
    "execution": {
     "iopub.execute_input": "2021-05-14T18:05:18.088288Z",
     "iopub.status.busy": "2021-05-14T18:05:18.087596Z",
     "iopub.status.idle": "2021-05-14T18:05:18.118858Z",
     "shell.execute_reply": "2021-05-14T18:05:18.118098Z"
    },
    "papermill": {
     "duration": 0.078054,
     "end_time": "2021-05-14T18:05:18.119030",
     "exception": false,
     "start_time": "2021-05-14T18:05:18.040976",
     "status": "completed"
    },
    "tags": []
   },
   "outputs": [
    {
     "data": {
      "text/html": [
       "<div>\n",
       "<style scoped>\n",
       "    .dataframe tbody tr th:only-of-type {\n",
       "        vertical-align: middle;\n",
       "    }\n",
       "\n",
       "    .dataframe tbody tr th {\n",
       "        vertical-align: top;\n",
       "    }\n",
       "\n",
       "    .dataframe thead th {\n",
       "        text-align: right;\n",
       "    }\n",
       "</style>\n",
       "<table border=\"1\" class=\"dataframe\">\n",
       "  <thead>\n",
       "    <tr style=\"text-align: right;\">\n",
       "      <th></th>\n",
       "      <th>PassengerId</th>\n",
       "      <th>Survived</th>\n",
       "      <th>Pclass</th>\n",
       "      <th>Name</th>\n",
       "      <th>Sex</th>\n",
       "      <th>Age</th>\n",
       "      <th>SibSp</th>\n",
       "      <th>Parch</th>\n",
       "      <th>Ticket</th>\n",
       "      <th>Fare</th>\n",
       "      <th>Cabin</th>\n",
       "      <th>Embarked</th>\n",
       "    </tr>\n",
       "  </thead>\n",
       "  <tbody>\n",
       "    <tr>\n",
       "      <th>0</th>\n",
       "      <td>1</td>\n",
       "      <td>0</td>\n",
       "      <td>3</td>\n",
       "      <td>Braund, Mr. Owen Harris</td>\n",
       "      <td>male</td>\n",
       "      <td>22.0</td>\n",
       "      <td>1</td>\n",
       "      <td>0</td>\n",
       "      <td>A/5 21171</td>\n",
       "      <td>7.2500</td>\n",
       "      <td>NaN</td>\n",
       "      <td>S</td>\n",
       "    </tr>\n",
       "    <tr>\n",
       "      <th>1</th>\n",
       "      <td>2</td>\n",
       "      <td>1</td>\n",
       "      <td>1</td>\n",
       "      <td>Cumings, Mrs. John Bradley (Florence Briggs Th...</td>\n",
       "      <td>female</td>\n",
       "      <td>38.0</td>\n",
       "      <td>1</td>\n",
       "      <td>0</td>\n",
       "      <td>PC 17599</td>\n",
       "      <td>71.2833</td>\n",
       "      <td>C85</td>\n",
       "      <td>C</td>\n",
       "    </tr>\n",
       "    <tr>\n",
       "      <th>2</th>\n",
       "      <td>3</td>\n",
       "      <td>1</td>\n",
       "      <td>3</td>\n",
       "      <td>Heikkinen, Miss. Laina</td>\n",
       "      <td>female</td>\n",
       "      <td>26.0</td>\n",
       "      <td>0</td>\n",
       "      <td>0</td>\n",
       "      <td>STON/O2. 3101282</td>\n",
       "      <td>7.9250</td>\n",
       "      <td>NaN</td>\n",
       "      <td>S</td>\n",
       "    </tr>\n",
       "    <tr>\n",
       "      <th>3</th>\n",
       "      <td>4</td>\n",
       "      <td>1</td>\n",
       "      <td>1</td>\n",
       "      <td>Futrelle, Mrs. Jacques Heath (Lily May Peel)</td>\n",
       "      <td>female</td>\n",
       "      <td>35.0</td>\n",
       "      <td>1</td>\n",
       "      <td>0</td>\n",
       "      <td>113803</td>\n",
       "      <td>53.1000</td>\n",
       "      <td>C123</td>\n",
       "      <td>S</td>\n",
       "    </tr>\n",
       "    <tr>\n",
       "      <th>4</th>\n",
       "      <td>5</td>\n",
       "      <td>0</td>\n",
       "      <td>3</td>\n",
       "      <td>Allen, Mr. William Henry</td>\n",
       "      <td>male</td>\n",
       "      <td>35.0</td>\n",
       "      <td>0</td>\n",
       "      <td>0</td>\n",
       "      <td>373450</td>\n",
       "      <td>8.0500</td>\n",
       "      <td>NaN</td>\n",
       "      <td>S</td>\n",
       "    </tr>\n",
       "  </tbody>\n",
       "</table>\n",
       "</div>"
      ],
      "text/plain": [
       "   PassengerId  Survived  Pclass  \\\n",
       "0            1         0       3   \n",
       "1            2         1       1   \n",
       "2            3         1       3   \n",
       "3            4         1       1   \n",
       "4            5         0       3   \n",
       "\n",
       "                                                Name     Sex   Age  SibSp  \\\n",
       "0                            Braund, Mr. Owen Harris    male  22.0      1   \n",
       "1  Cumings, Mrs. John Bradley (Florence Briggs Th...  female  38.0      1   \n",
       "2                             Heikkinen, Miss. Laina  female  26.0      0   \n",
       "3       Futrelle, Mrs. Jacques Heath (Lily May Peel)  female  35.0      1   \n",
       "4                           Allen, Mr. William Henry    male  35.0      0   \n",
       "\n",
       "   Parch            Ticket     Fare Cabin Embarked  \n",
       "0      0         A/5 21171   7.2500   NaN        S  \n",
       "1      0          PC 17599  71.2833   C85        C  \n",
       "2      0  STON/O2. 3101282   7.9250   NaN        S  \n",
       "3      0            113803  53.1000  C123        S  \n",
       "4      0            373450   8.0500   NaN        S  "
      ]
     },
     "execution_count": 5,
     "metadata": {},
     "output_type": "execute_result"
    }
   ],
   "source": [
    "train_df.head()"
   ]
  },
  {
   "cell_type": "code",
   "execution_count": 6,
   "id": "emotional-beaver",
   "metadata": {
    "execution": {
     "iopub.execute_input": "2021-05-14T18:05:18.193476Z",
     "iopub.status.busy": "2021-05-14T18:05:18.192531Z",
     "iopub.status.idle": "2021-05-14T18:05:18.196332Z",
     "shell.execute_reply": "2021-05-14T18:05:18.196812Z"
    },
    "papermill": {
     "duration": 0.045239,
     "end_time": "2021-05-14T18:05:18.197011",
     "exception": false,
     "start_time": "2021-05-14T18:05:18.151772",
     "status": "completed"
    },
    "tags": []
   },
   "outputs": [
    {
     "data": {
      "text/plain": [
       "PassengerId      0\n",
       "Survived         0\n",
       "Pclass           0\n",
       "Name             0\n",
       "Sex              0\n",
       "Age            177\n",
       "SibSp            0\n",
       "Parch            0\n",
       "Ticket           0\n",
       "Fare             0\n",
       "Cabin          687\n",
       "Embarked         2\n",
       "dtype: int64"
      ]
     },
     "execution_count": 6,
     "metadata": {},
     "output_type": "execute_result"
    }
   ],
   "source": [
    "train_df.isna().sum()"
   ]
  },
  {
   "cell_type": "code",
   "execution_count": 7,
   "id": "indoor-camera",
   "metadata": {
    "execution": {
     "iopub.execute_input": "2021-05-14T18:05:18.271537Z",
     "iopub.status.busy": "2021-05-14T18:05:18.270713Z",
     "iopub.status.idle": "2021-05-14T18:05:18.273533Z",
     "shell.execute_reply": "2021-05-14T18:05:18.272893Z"
    },
    "papermill": {
     "duration": 0.044009,
     "end_time": "2021-05-14T18:05:18.273675",
     "exception": false,
     "start_time": "2021-05-14T18:05:18.229666",
     "status": "completed"
    },
    "tags": []
   },
   "outputs": [],
   "source": [
    "train_df.drop(\"Cabin\",axis=1,inplace=True)"
   ]
  },
  {
   "cell_type": "code",
   "execution_count": 8,
   "id": "incomplete-collective",
   "metadata": {
    "execution": {
     "iopub.execute_input": "2021-05-14T18:05:18.349497Z",
     "iopub.status.busy": "2021-05-14T18:05:18.348611Z",
     "iopub.status.idle": "2021-05-14T18:05:18.352484Z",
     "shell.execute_reply": "2021-05-14T18:05:18.351904Z"
    },
    "papermill": {
     "duration": 0.046165,
     "end_time": "2021-05-14T18:05:18.352633",
     "exception": false,
     "start_time": "2021-05-14T18:05:18.306468",
     "status": "completed"
    },
    "tags": []
   },
   "outputs": [
    {
     "data": {
      "text/plain": [
       "array([22.  , 38.  , 26.  , 35.  ,   nan, 54.  ,  2.  , 27.  , 14.  ,\n",
       "        4.  , 58.  , 20.  , 39.  , 55.  , 31.  , 34.  , 15.  , 28.  ,\n",
       "        8.  , 19.  , 40.  , 66.  , 42.  , 21.  , 18.  ,  3.  ,  7.  ,\n",
       "       49.  , 29.  , 65.  , 28.5 ,  5.  , 11.  , 45.  , 17.  , 32.  ,\n",
       "       16.  , 25.  ,  0.83, 30.  , 33.  , 23.  , 24.  , 46.  , 59.  ,\n",
       "       71.  , 37.  , 47.  , 14.5 , 70.5 , 32.5 , 12.  ,  9.  , 36.5 ,\n",
       "       51.  , 55.5 , 40.5 , 44.  ,  1.  , 61.  , 56.  , 50.  , 36.  ,\n",
       "       45.5 , 20.5 , 62.  , 41.  , 52.  , 63.  , 23.5 ,  0.92, 43.  ,\n",
       "       60.  , 10.  , 64.  , 13.  , 48.  ,  0.75, 53.  , 57.  , 80.  ,\n",
       "       70.  , 24.5 ,  6.  ,  0.67, 30.5 ,  0.42, 34.5 , 74.  ])"
      ]
     },
     "execution_count": 8,
     "metadata": {},
     "output_type": "execute_result"
    }
   ],
   "source": [
    "# test_df.drop(\"Cabin\",axis=1,inplace=True)\n",
    "train_df[\"Age\"].unique()"
   ]
  },
  {
   "cell_type": "code",
   "execution_count": 9,
   "id": "silver-jungle",
   "metadata": {
    "execution": {
     "iopub.execute_input": "2021-05-14T18:05:18.427535Z",
     "iopub.status.busy": "2021-05-14T18:05:18.426803Z",
     "iopub.status.idle": "2021-05-14T18:05:18.451911Z",
     "shell.execute_reply": "2021-05-14T18:05:18.451313Z"
    },
    "papermill": {
     "duration": 0.063261,
     "end_time": "2021-05-14T18:05:18.452072",
     "exception": false,
     "start_time": "2021-05-14T18:05:18.388811",
     "status": "completed"
    },
    "tags": []
   },
   "outputs": [],
   "source": [
    "x=train_df[train_df[\"Pclass\"]==1][\"Age\"].mean()"
   ]
  },
  {
   "cell_type": "code",
   "execution_count": 10,
   "id": "integrated-israel",
   "metadata": {
    "execution": {
     "iopub.execute_input": "2021-05-14T18:05:18.525866Z",
     "iopub.status.busy": "2021-05-14T18:05:18.525051Z",
     "iopub.status.idle": "2021-05-14T18:05:18.529980Z",
     "shell.execute_reply": "2021-05-14T18:05:18.529360Z"
    },
    "papermill": {
     "duration": 0.044636,
     "end_time": "2021-05-14T18:05:18.530125",
     "exception": false,
     "start_time": "2021-05-14T18:05:18.485489",
     "status": "completed"
    },
    "tags": []
   },
   "outputs": [
    {
     "data": {
      "text/plain": [
       "38.233440860215055"
      ]
     },
     "execution_count": 10,
     "metadata": {},
     "output_type": "execute_result"
    }
   ],
   "source": [
    "x"
   ]
  },
  {
   "cell_type": "code",
   "execution_count": 11,
   "id": "protective-somerset",
   "metadata": {
    "execution": {
     "iopub.execute_input": "2021-05-14T18:05:18.604321Z",
     "iopub.status.busy": "2021-05-14T18:05:18.603597Z",
     "iopub.status.idle": "2021-05-14T18:05:18.605883Z",
     "shell.execute_reply": "2021-05-14T18:05:18.606419Z"
    },
    "papermill": {
     "duration": 0.042797,
     "end_time": "2021-05-14T18:05:18.606625",
     "exception": false,
     "start_time": "2021-05-14T18:05:18.563828",
     "status": "completed"
    },
    "tags": []
   },
   "outputs": [],
   "source": [
    "y=train_df[train_df[\"Pclass\"]==2][\"Age\"].mean()"
   ]
  },
  {
   "cell_type": "code",
   "execution_count": 12,
   "id": "wrong-assets",
   "metadata": {
    "execution": {
     "iopub.execute_input": "2021-05-14T18:05:18.682437Z",
     "iopub.status.busy": "2021-05-14T18:05:18.681742Z",
     "iopub.status.idle": "2021-05-14T18:05:18.684562Z",
     "shell.execute_reply": "2021-05-14T18:05:18.685098Z"
    },
    "papermill": {
     "duration": 0.044839,
     "end_time": "2021-05-14T18:05:18.685298",
     "exception": false,
     "start_time": "2021-05-14T18:05:18.640459",
     "status": "completed"
    },
    "tags": []
   },
   "outputs": [],
   "source": [
    "z=train_df[train_df[\"Pclass\"]==3][\"Age\"].mean()\n",
    "train_df[\"Age\"].isna()\n",
    "import math"
   ]
  },
  {
   "cell_type": "code",
   "execution_count": 13,
   "id": "clinical-trouble",
   "metadata": {
    "execution": {
     "iopub.execute_input": "2021-05-14T18:05:18.814574Z",
     "iopub.status.busy": "2021-05-14T18:05:18.761318Z",
     "iopub.status.idle": "2021-05-14T18:05:18.873060Z",
     "shell.execute_reply": "2021-05-14T18:05:18.872427Z"
    },
    "papermill": {
     "duration": 0.153135,
     "end_time": "2021-05-14T18:05:18.873207",
     "exception": false,
     "start_time": "2021-05-14T18:05:18.720072",
     "status": "completed"
    },
    "tags": []
   },
   "outputs": [
    {
     "name": "stderr",
     "output_type": "stream",
     "text": [
      "/opt/conda/lib/python3.7/site-packages/ipykernel_launcher.py:8: SettingWithCopyWarning: \n",
      "A value is trying to be set on a copy of a slice from a DataFrame\n",
      "\n",
      "See the caveats in the documentation: https://pandas.pydata.org/pandas-docs/stable/user_guide/indexing.html#returning-a-view-versus-a-copy\n",
      "  \n",
      "/opt/conda/lib/python3.7/site-packages/ipykernel_launcher.py:6: SettingWithCopyWarning: \n",
      "A value is trying to be set on a copy of a slice from a DataFrame\n",
      "\n",
      "See the caveats in the documentation: https://pandas.pydata.org/pandas-docs/stable/user_guide/indexing.html#returning-a-view-versus-a-copy\n",
      "  \n",
      "/opt/conda/lib/python3.7/site-packages/ipykernel_launcher.py:4: SettingWithCopyWarning: \n",
      "A value is trying to be set on a copy of a slice from a DataFrame\n",
      "\n",
      "See the caveats in the documentation: https://pandas.pydata.org/pandas-docs/stable/user_guide/indexing.html#returning-a-view-versus-a-copy\n",
      "  after removing the cwd from sys.path.\n"
     ]
    }
   ],
   "source": [
    "for i in range(len(train_df)):\n",
    "    if math.isnan(train_df[\"Age\"][i]):\n",
    "        if train_df[\"Pclass\"][i]==1:\n",
    "            train_df[\"Age\"][i]=x\n",
    "        elif train_df[\"Pclass\"][i]==2:\n",
    "            train_df[\"Age\"][i]=y\n",
    "        else :\n",
    "            train_df[\"Age\"][i]=z"
   ]
  },
  {
   "cell_type": "code",
   "execution_count": 14,
   "id": "informed-relief",
   "metadata": {
    "execution": {
     "iopub.execute_input": "2021-05-14T18:05:18.950018Z",
     "iopub.status.busy": "2021-05-14T18:05:18.948937Z",
     "iopub.status.idle": "2021-05-14T18:05:18.952190Z",
     "shell.execute_reply": "2021-05-14T18:05:18.952697Z"
    },
    "papermill": {
     "duration": 0.045337,
     "end_time": "2021-05-14T18:05:18.952884",
     "exception": false,
     "start_time": "2021-05-14T18:05:18.907547",
     "status": "completed"
    },
    "tags": []
   },
   "outputs": [],
   "source": [
    "test_df.drop(\"Cabin\",axis=1,inplace=True)"
   ]
  },
  {
   "cell_type": "code",
   "execution_count": 15,
   "id": "smooth-treasure",
   "metadata": {
    "execution": {
     "iopub.execute_input": "2021-05-14T18:05:19.042131Z",
     "iopub.status.busy": "2021-05-14T18:05:19.039039Z",
     "iopub.status.idle": "2021-05-14T18:05:19.090683Z",
     "shell.execute_reply": "2021-05-14T18:05:19.090076Z"
    },
    "papermill": {
     "duration": 0.101977,
     "end_time": "2021-05-14T18:05:19.090842",
     "exception": false,
     "start_time": "2021-05-14T18:05:18.988865",
     "status": "completed"
    },
    "tags": []
   },
   "outputs": [
    {
     "name": "stderr",
     "output_type": "stream",
     "text": [
      "/opt/conda/lib/python3.7/site-packages/ipykernel_launcher.py:8: SettingWithCopyWarning: \n",
      "A value is trying to be set on a copy of a slice from a DataFrame\n",
      "\n",
      "See the caveats in the documentation: https://pandas.pydata.org/pandas-docs/stable/user_guide/indexing.html#returning-a-view-versus-a-copy\n",
      "  \n",
      "/opt/conda/lib/python3.7/site-packages/ipykernel_launcher.py:4: SettingWithCopyWarning: \n",
      "A value is trying to be set on a copy of a slice from a DataFrame\n",
      "\n",
      "See the caveats in the documentation: https://pandas.pydata.org/pandas-docs/stable/user_guide/indexing.html#returning-a-view-versus-a-copy\n",
      "  after removing the cwd from sys.path.\n",
      "/opt/conda/lib/python3.7/site-packages/ipykernel_launcher.py:6: SettingWithCopyWarning: \n",
      "A value is trying to be set on a copy of a slice from a DataFrame\n",
      "\n",
      "See the caveats in the documentation: https://pandas.pydata.org/pandas-docs/stable/user_guide/indexing.html#returning-a-view-versus-a-copy\n",
      "  \n"
     ]
    }
   ],
   "source": [
    "for i in range(len(test_df)):\n",
    "    if math.isnan(test_df[\"Age\"][i]):\n",
    "        if test_df[\"Pclass\"][i]==1:\n",
    "            test_df[\"Age\"][i]=x\n",
    "        elif test_df[\"Pclass\"][i]==2:\n",
    "            test_df[\"Age\"][i]=y\n",
    "        else :\n",
    "            test_df[\"Age\"][i]=z"
   ]
  },
  {
   "cell_type": "code",
   "execution_count": 16,
   "id": "consistent-transmission",
   "metadata": {
    "execution": {
     "iopub.execute_input": "2021-05-14T18:05:19.176738Z",
     "iopub.status.busy": "2021-05-14T18:05:19.175680Z",
     "iopub.status.idle": "2021-05-14T18:05:19.180687Z",
     "shell.execute_reply": "2021-05-14T18:05:19.180120Z"
    },
    "papermill": {
     "duration": 0.051333,
     "end_time": "2021-05-14T18:05:19.180837",
     "exception": false,
     "start_time": "2021-05-14T18:05:19.129504",
     "status": "completed"
    },
    "tags": []
   },
   "outputs": [
    {
     "data": {
      "text/plain": [
       "PassengerId    0\n",
       "Pclass         0\n",
       "Name           0\n",
       "Sex            0\n",
       "Age            0\n",
       "SibSp          0\n",
       "Parch          0\n",
       "Ticket         0\n",
       "Fare           1\n",
       "Embarked       0\n",
       "dtype: int64"
      ]
     },
     "execution_count": 16,
     "metadata": {},
     "output_type": "execute_result"
    }
   ],
   "source": [
    "test_df.isna().sum()"
   ]
  },
  {
   "cell_type": "code",
   "execution_count": 17,
   "id": "accepted-alexander",
   "metadata": {
    "execution": {
     "iopub.execute_input": "2021-05-14T18:05:19.259645Z",
     "iopub.status.busy": "2021-05-14T18:05:19.258813Z",
     "iopub.status.idle": "2021-05-14T18:05:19.262615Z",
     "shell.execute_reply": "2021-05-14T18:05:19.262077Z"
    },
    "papermill": {
     "duration": 0.046376,
     "end_time": "2021-05-14T18:05:19.262774",
     "exception": false,
     "start_time": "2021-05-14T18:05:19.216398",
     "status": "completed"
    },
    "tags": []
   },
   "outputs": [],
   "source": [
    "test_df['Fare'].fillna(test_df['Fare'].mean(),inplace=True)"
   ]
  },
  {
   "cell_type": "code",
   "execution_count": 18,
   "id": "plain-producer",
   "metadata": {
    "execution": {
     "iopub.execute_input": "2021-05-14T18:05:19.343757Z",
     "iopub.status.busy": "2021-05-14T18:05:19.341753Z",
     "iopub.status.idle": "2021-05-14T18:05:19.348122Z",
     "shell.execute_reply": "2021-05-14T18:05:19.347573Z"
    },
    "papermill": {
     "duration": 0.048636,
     "end_time": "2021-05-14T18:05:19.348304",
     "exception": false,
     "start_time": "2021-05-14T18:05:19.299668",
     "status": "completed"
    },
    "tags": []
   },
   "outputs": [],
   "source": [
    "train_df.dropna(inplace=True)"
   ]
  },
  {
   "cell_type": "code",
   "execution_count": 19,
   "id": "sunset-postcard",
   "metadata": {
    "execution": {
     "iopub.execute_input": "2021-05-14T18:05:19.425960Z",
     "iopub.status.busy": "2021-05-14T18:05:19.424958Z",
     "iopub.status.idle": "2021-05-14T18:05:19.429718Z",
     "shell.execute_reply": "2021-05-14T18:05:19.429174Z"
    },
    "papermill": {
     "duration": 0.046012,
     "end_time": "2021-05-14T18:05:19.429960",
     "exception": false,
     "start_time": "2021-05-14T18:05:19.383948",
     "status": "completed"
    },
    "tags": []
   },
   "outputs": [
    {
     "data": {
      "text/plain": [
       "(889, 11)"
      ]
     },
     "execution_count": 19,
     "metadata": {},
     "output_type": "execute_result"
    }
   ],
   "source": [
    "train_df.shape"
   ]
  },
  {
   "cell_type": "code",
   "execution_count": 20,
   "id": "together-spank",
   "metadata": {
    "execution": {
     "iopub.execute_input": "2021-05-14T18:05:19.509906Z",
     "iopub.status.busy": "2021-05-14T18:05:19.509051Z",
     "iopub.status.idle": "2021-05-14T18:05:19.512412Z",
     "shell.execute_reply": "2021-05-14T18:05:19.511757Z"
    },
    "papermill": {
     "duration": 0.045259,
     "end_time": "2021-05-14T18:05:19.512571",
     "exception": false,
     "start_time": "2021-05-14T18:05:19.467312",
     "status": "completed"
    },
    "tags": []
   },
   "outputs": [
    {
     "data": {
      "text/plain": [
       "(418, 10)"
      ]
     },
     "execution_count": 20,
     "metadata": {},
     "output_type": "execute_result"
    }
   ],
   "source": [
    "test_df.shape"
   ]
  },
  {
   "cell_type": "code",
   "execution_count": 21,
   "id": "finnish-devon",
   "metadata": {
    "execution": {
     "iopub.execute_input": "2021-05-14T18:05:19.595889Z",
     "iopub.status.busy": "2021-05-14T18:05:19.595034Z",
     "iopub.status.idle": "2021-05-14T18:05:19.598235Z",
     "shell.execute_reply": "2021-05-14T18:05:19.597731Z"
    },
    "papermill": {
     "duration": 0.04661,
     "end_time": "2021-05-14T18:05:19.598408",
     "exception": false,
     "start_time": "2021-05-14T18:05:19.551798",
     "status": "completed"
    },
    "tags": []
   },
   "outputs": [],
   "source": [
    "train_df.drop([\"PassengerId\",\"Name\",\"Ticket\"],inplace=True,axis=1)"
   ]
  },
  {
   "cell_type": "code",
   "execution_count": 22,
   "id": "typical-dryer",
   "metadata": {
    "execution": {
     "iopub.execute_input": "2021-05-14T18:05:19.688076Z",
     "iopub.status.busy": "2021-05-14T18:05:19.683812Z",
     "iopub.status.idle": "2021-05-14T18:05:19.693413Z",
     "shell.execute_reply": "2021-05-14T18:05:19.692838Z"
    },
    "papermill": {
     "duration": 0.058491,
     "end_time": "2021-05-14T18:05:19.693558",
     "exception": false,
     "start_time": "2021-05-14T18:05:19.635067",
     "status": "completed"
    },
    "tags": []
   },
   "outputs": [
    {
     "data": {
      "text/html": [
       "<div>\n",
       "<style scoped>\n",
       "    .dataframe tbody tr th:only-of-type {\n",
       "        vertical-align: middle;\n",
       "    }\n",
       "\n",
       "    .dataframe tbody tr th {\n",
       "        vertical-align: top;\n",
       "    }\n",
       "\n",
       "    .dataframe thead th {\n",
       "        text-align: right;\n",
       "    }\n",
       "</style>\n",
       "<table border=\"1\" class=\"dataframe\">\n",
       "  <thead>\n",
       "    <tr style=\"text-align: right;\">\n",
       "      <th></th>\n",
       "      <th>Survived</th>\n",
       "      <th>Pclass</th>\n",
       "      <th>Sex</th>\n",
       "      <th>Age</th>\n",
       "      <th>SibSp</th>\n",
       "      <th>Parch</th>\n",
       "      <th>Fare</th>\n",
       "      <th>Embarked</th>\n",
       "    </tr>\n",
       "  </thead>\n",
       "  <tbody>\n",
       "    <tr>\n",
       "      <th>0</th>\n",
       "      <td>0</td>\n",
       "      <td>3</td>\n",
       "      <td>male</td>\n",
       "      <td>22.0</td>\n",
       "      <td>1</td>\n",
       "      <td>0</td>\n",
       "      <td>7.2500</td>\n",
       "      <td>S</td>\n",
       "    </tr>\n",
       "    <tr>\n",
       "      <th>1</th>\n",
       "      <td>1</td>\n",
       "      <td>1</td>\n",
       "      <td>female</td>\n",
       "      <td>38.0</td>\n",
       "      <td>1</td>\n",
       "      <td>0</td>\n",
       "      <td>71.2833</td>\n",
       "      <td>C</td>\n",
       "    </tr>\n",
       "    <tr>\n",
       "      <th>2</th>\n",
       "      <td>1</td>\n",
       "      <td>3</td>\n",
       "      <td>female</td>\n",
       "      <td>26.0</td>\n",
       "      <td>0</td>\n",
       "      <td>0</td>\n",
       "      <td>7.9250</td>\n",
       "      <td>S</td>\n",
       "    </tr>\n",
       "    <tr>\n",
       "      <th>3</th>\n",
       "      <td>1</td>\n",
       "      <td>1</td>\n",
       "      <td>female</td>\n",
       "      <td>35.0</td>\n",
       "      <td>1</td>\n",
       "      <td>0</td>\n",
       "      <td>53.1000</td>\n",
       "      <td>S</td>\n",
       "    </tr>\n",
       "    <tr>\n",
       "      <th>4</th>\n",
       "      <td>0</td>\n",
       "      <td>3</td>\n",
       "      <td>male</td>\n",
       "      <td>35.0</td>\n",
       "      <td>0</td>\n",
       "      <td>0</td>\n",
       "      <td>8.0500</td>\n",
       "      <td>S</td>\n",
       "    </tr>\n",
       "  </tbody>\n",
       "</table>\n",
       "</div>"
      ],
      "text/plain": [
       "   Survived  Pclass     Sex   Age  SibSp  Parch     Fare Embarked\n",
       "0         0       3    male  22.0      1      0   7.2500        S\n",
       "1         1       1  female  38.0      1      0  71.2833        C\n",
       "2         1       3  female  26.0      0      0   7.9250        S\n",
       "3         1       1  female  35.0      1      0  53.1000        S\n",
       "4         0       3    male  35.0      0      0   8.0500        S"
      ]
     },
     "execution_count": 22,
     "metadata": {},
     "output_type": "execute_result"
    }
   ],
   "source": [
    "train_df.head()"
   ]
  },
  {
   "cell_type": "code",
   "execution_count": 23,
   "id": "advance-strengthening",
   "metadata": {
    "execution": {
     "iopub.execute_input": "2021-05-14T18:05:19.784340Z",
     "iopub.status.busy": "2021-05-14T18:05:19.783349Z",
     "iopub.status.idle": "2021-05-14T18:05:19.788447Z",
     "shell.execute_reply": "2021-05-14T18:05:19.787877Z"
    },
    "papermill": {
     "duration": 0.057299,
     "end_time": "2021-05-14T18:05:19.788594",
     "exception": false,
     "start_time": "2021-05-14T18:05:19.731295",
     "status": "completed"
    },
    "tags": []
   },
   "outputs": [
    {
     "data": {
      "text/html": [
       "<div>\n",
       "<style scoped>\n",
       "    .dataframe tbody tr th:only-of-type {\n",
       "        vertical-align: middle;\n",
       "    }\n",
       "\n",
       "    .dataframe tbody tr th {\n",
       "        vertical-align: top;\n",
       "    }\n",
       "\n",
       "    .dataframe thead th {\n",
       "        text-align: right;\n",
       "    }\n",
       "</style>\n",
       "<table border=\"1\" class=\"dataframe\">\n",
       "  <thead>\n",
       "    <tr style=\"text-align: right;\">\n",
       "      <th></th>\n",
       "      <th>male</th>\n",
       "    </tr>\n",
       "  </thead>\n",
       "  <tbody>\n",
       "    <tr>\n",
       "      <th>0</th>\n",
       "      <td>1</td>\n",
       "    </tr>\n",
       "    <tr>\n",
       "      <th>1</th>\n",
       "      <td>0</td>\n",
       "    </tr>\n",
       "    <tr>\n",
       "      <th>2</th>\n",
       "      <td>0</td>\n",
       "    </tr>\n",
       "    <tr>\n",
       "      <th>3</th>\n",
       "      <td>0</td>\n",
       "    </tr>\n",
       "    <tr>\n",
       "      <th>4</th>\n",
       "      <td>1</td>\n",
       "    </tr>\n",
       "    <tr>\n",
       "      <th>...</th>\n",
       "      <td>...</td>\n",
       "    </tr>\n",
       "    <tr>\n",
       "      <th>886</th>\n",
       "      <td>1</td>\n",
       "    </tr>\n",
       "    <tr>\n",
       "      <th>887</th>\n",
       "      <td>0</td>\n",
       "    </tr>\n",
       "    <tr>\n",
       "      <th>888</th>\n",
       "      <td>0</td>\n",
       "    </tr>\n",
       "    <tr>\n",
       "      <th>889</th>\n",
       "      <td>1</td>\n",
       "    </tr>\n",
       "    <tr>\n",
       "      <th>890</th>\n",
       "      <td>1</td>\n",
       "    </tr>\n",
       "  </tbody>\n",
       "</table>\n",
       "<p>889 rows × 1 columns</p>\n",
       "</div>"
      ],
      "text/plain": [
       "     male\n",
       "0       1\n",
       "1       0\n",
       "2       0\n",
       "3       0\n",
       "4       1\n",
       "..    ...\n",
       "886     1\n",
       "887     0\n",
       "888     0\n",
       "889     1\n",
       "890     1\n",
       "\n",
       "[889 rows x 1 columns]"
      ]
     },
     "execution_count": 23,
     "metadata": {},
     "output_type": "execute_result"
    }
   ],
   "source": [
    "sex=pd.get_dummies(train_df[\"Sex\"],drop_first=True)\n",
    "sex\n"
   ]
  },
  {
   "cell_type": "code",
   "execution_count": 24,
   "id": "sorted-vaccine",
   "metadata": {
    "execution": {
     "iopub.execute_input": "2021-05-14T18:05:19.867788Z",
     "iopub.status.busy": "2021-05-14T18:05:19.867098Z",
     "iopub.status.idle": "2021-05-14T18:05:19.877575Z",
     "shell.execute_reply": "2021-05-14T18:05:19.878147Z"
    },
    "papermill": {
     "duration": 0.051768,
     "end_time": "2021-05-14T18:05:19.878359",
     "exception": false,
     "start_time": "2021-05-14T18:05:19.826591",
     "status": "completed"
    },
    "tags": []
   },
   "outputs": [],
   "source": [
    "embark=pd.get_dummies(train_df[\"Embarked\"],drop_first=True)\n",
    "train_df=pd.concat([train_df,sex,embark],axis=1)\n",
    "train_df.drop([\"Sex\",\"Embarked\"],axis=1,inplace=True)"
   ]
  },
  {
   "cell_type": "code",
   "execution_count": null,
   "id": "czech-assistant",
   "metadata": {
    "papermill": {
     "duration": 0.038494,
     "end_time": "2021-05-14T18:05:19.955403",
     "exception": false,
     "start_time": "2021-05-14T18:05:19.916909",
     "status": "completed"
    },
    "tags": []
   },
   "outputs": [],
   "source": []
  },
  {
   "cell_type": "code",
   "execution_count": 25,
   "id": "interstate-vision",
   "metadata": {
    "execution": {
     "iopub.execute_input": "2021-05-14T18:05:20.045436Z",
     "iopub.status.busy": "2021-05-14T18:05:20.044663Z",
     "iopub.status.idle": "2021-05-14T18:05:20.050476Z",
     "shell.execute_reply": "2021-05-14T18:05:20.049894Z"
    },
    "papermill": {
     "duration": 0.057038,
     "end_time": "2021-05-14T18:05:20.050638",
     "exception": false,
     "start_time": "2021-05-14T18:05:19.993600",
     "status": "completed"
    },
    "tags": []
   },
   "outputs": [
    {
     "data": {
      "text/html": [
       "<div>\n",
       "<style scoped>\n",
       "    .dataframe tbody tr th:only-of-type {\n",
       "        vertical-align: middle;\n",
       "    }\n",
       "\n",
       "    .dataframe tbody tr th {\n",
       "        vertical-align: top;\n",
       "    }\n",
       "\n",
       "    .dataframe thead th {\n",
       "        text-align: right;\n",
       "    }\n",
       "</style>\n",
       "<table border=\"1\" class=\"dataframe\">\n",
       "  <thead>\n",
       "    <tr style=\"text-align: right;\">\n",
       "      <th></th>\n",
       "      <th>male</th>\n",
       "    </tr>\n",
       "  </thead>\n",
       "  <tbody>\n",
       "    <tr>\n",
       "      <th>0</th>\n",
       "      <td>1</td>\n",
       "    </tr>\n",
       "    <tr>\n",
       "      <th>1</th>\n",
       "      <td>0</td>\n",
       "    </tr>\n",
       "    <tr>\n",
       "      <th>2</th>\n",
       "      <td>1</td>\n",
       "    </tr>\n",
       "    <tr>\n",
       "      <th>3</th>\n",
       "      <td>1</td>\n",
       "    </tr>\n",
       "    <tr>\n",
       "      <th>4</th>\n",
       "      <td>0</td>\n",
       "    </tr>\n",
       "    <tr>\n",
       "      <th>...</th>\n",
       "      <td>...</td>\n",
       "    </tr>\n",
       "    <tr>\n",
       "      <th>413</th>\n",
       "      <td>1</td>\n",
       "    </tr>\n",
       "    <tr>\n",
       "      <th>414</th>\n",
       "      <td>0</td>\n",
       "    </tr>\n",
       "    <tr>\n",
       "      <th>415</th>\n",
       "      <td>1</td>\n",
       "    </tr>\n",
       "    <tr>\n",
       "      <th>416</th>\n",
       "      <td>1</td>\n",
       "    </tr>\n",
       "    <tr>\n",
       "      <th>417</th>\n",
       "      <td>1</td>\n",
       "    </tr>\n",
       "  </tbody>\n",
       "</table>\n",
       "<p>418 rows × 1 columns</p>\n",
       "</div>"
      ],
      "text/plain": [
       "     male\n",
       "0       1\n",
       "1       0\n",
       "2       1\n",
       "3       1\n",
       "4       0\n",
       "..    ...\n",
       "413     1\n",
       "414     0\n",
       "415     1\n",
       "416     1\n",
       "417     1\n",
       "\n",
       "[418 rows x 1 columns]"
      ]
     },
     "execution_count": 25,
     "metadata": {},
     "output_type": "execute_result"
    }
   ],
   "source": [
    "sex=pd.get_dummies(test_df[\"Sex\"],drop_first=True)\n",
    "sex\n"
   ]
  },
  {
   "cell_type": "code",
   "execution_count": 26,
   "id": "greek-toilet",
   "metadata": {
    "execution": {
     "iopub.execute_input": "2021-05-14T18:05:20.139231Z",
     "iopub.status.busy": "2021-05-14T18:05:20.136600Z",
     "iopub.status.idle": "2021-05-14T18:05:20.144163Z",
     "shell.execute_reply": "2021-05-14T18:05:20.144681Z"
    },
    "papermill": {
     "duration": 0.053808,
     "end_time": "2021-05-14T18:05:20.144880",
     "exception": false,
     "start_time": "2021-05-14T18:05:20.091072",
     "status": "completed"
    },
    "tags": []
   },
   "outputs": [],
   "source": [
    "embark=pd.get_dummies(test_df[\"Embarked\"],drop_first=True)\n",
    "test_df=pd.concat([test_df,sex,embark],axis=1)\n",
    "test_df.drop([\"Sex\",\"Embarked\"],axis=1,inplace=True)"
   ]
  },
  {
   "cell_type": "code",
   "execution_count": 27,
   "id": "descending-bouquet",
   "metadata": {
    "execution": {
     "iopub.execute_input": "2021-05-14T18:05:20.228401Z",
     "iopub.status.busy": "2021-05-14T18:05:20.227678Z",
     "iopub.status.idle": "2021-05-14T18:05:20.233304Z",
     "shell.execute_reply": "2021-05-14T18:05:20.233861Z"
    },
    "papermill": {
     "duration": 0.048403,
     "end_time": "2021-05-14T18:05:20.234042",
     "exception": false,
     "start_time": "2021-05-14T18:05:20.185639",
     "status": "completed"
    },
    "tags": []
   },
   "outputs": [],
   "source": [
    "test_df.drop([\"Name\",\"Ticket\"],axis=1,inplace=True)"
   ]
  },
  {
   "cell_type": "code",
   "execution_count": 28,
   "id": "variable-simpson",
   "metadata": {
    "execution": {
     "iopub.execute_input": "2021-05-14T18:05:20.316357Z",
     "iopub.status.busy": "2021-05-14T18:05:20.315651Z",
     "iopub.status.idle": "2021-05-14T18:05:20.329473Z",
     "shell.execute_reply": "2021-05-14T18:05:20.329942Z"
    },
    "papermill": {
     "duration": 0.056656,
     "end_time": "2021-05-14T18:05:20.330128",
     "exception": false,
     "start_time": "2021-05-14T18:05:20.273472",
     "status": "completed"
    },
    "tags": []
   },
   "outputs": [
    {
     "data": {
      "text/html": [
       "<div>\n",
       "<style scoped>\n",
       "    .dataframe tbody tr th:only-of-type {\n",
       "        vertical-align: middle;\n",
       "    }\n",
       "\n",
       "    .dataframe tbody tr th {\n",
       "        vertical-align: top;\n",
       "    }\n",
       "\n",
       "    .dataframe thead th {\n",
       "        text-align: right;\n",
       "    }\n",
       "</style>\n",
       "<table border=\"1\" class=\"dataframe\">\n",
       "  <thead>\n",
       "    <tr style=\"text-align: right;\">\n",
       "      <th></th>\n",
       "      <th>PassengerId</th>\n",
       "      <th>Pclass</th>\n",
       "      <th>Age</th>\n",
       "      <th>SibSp</th>\n",
       "      <th>Parch</th>\n",
       "      <th>Fare</th>\n",
       "      <th>male</th>\n",
       "      <th>Q</th>\n",
       "      <th>S</th>\n",
       "    </tr>\n",
       "  </thead>\n",
       "  <tbody>\n",
       "    <tr>\n",
       "      <th>0</th>\n",
       "      <td>892</td>\n",
       "      <td>3</td>\n",
       "      <td>34.5</td>\n",
       "      <td>0</td>\n",
       "      <td>0</td>\n",
       "      <td>7.8292</td>\n",
       "      <td>1</td>\n",
       "      <td>1</td>\n",
       "      <td>0</td>\n",
       "    </tr>\n",
       "    <tr>\n",
       "      <th>1</th>\n",
       "      <td>893</td>\n",
       "      <td>3</td>\n",
       "      <td>47.0</td>\n",
       "      <td>1</td>\n",
       "      <td>0</td>\n",
       "      <td>7.0000</td>\n",
       "      <td>0</td>\n",
       "      <td>0</td>\n",
       "      <td>1</td>\n",
       "    </tr>\n",
       "    <tr>\n",
       "      <th>2</th>\n",
       "      <td>894</td>\n",
       "      <td>2</td>\n",
       "      <td>62.0</td>\n",
       "      <td>0</td>\n",
       "      <td>0</td>\n",
       "      <td>9.6875</td>\n",
       "      <td>1</td>\n",
       "      <td>1</td>\n",
       "      <td>0</td>\n",
       "    </tr>\n",
       "    <tr>\n",
       "      <th>3</th>\n",
       "      <td>895</td>\n",
       "      <td>3</td>\n",
       "      <td>27.0</td>\n",
       "      <td>0</td>\n",
       "      <td>0</td>\n",
       "      <td>8.6625</td>\n",
       "      <td>1</td>\n",
       "      <td>0</td>\n",
       "      <td>1</td>\n",
       "    </tr>\n",
       "    <tr>\n",
       "      <th>4</th>\n",
       "      <td>896</td>\n",
       "      <td>3</td>\n",
       "      <td>22.0</td>\n",
       "      <td>1</td>\n",
       "      <td>1</td>\n",
       "      <td>12.2875</td>\n",
       "      <td>0</td>\n",
       "      <td>0</td>\n",
       "      <td>1</td>\n",
       "    </tr>\n",
       "  </tbody>\n",
       "</table>\n",
       "</div>"
      ],
      "text/plain": [
       "   PassengerId  Pclass   Age  SibSp  Parch     Fare  male  Q  S\n",
       "0          892       3  34.5      0      0   7.8292     1  1  0\n",
       "1          893       3  47.0      1      0   7.0000     0  0  1\n",
       "2          894       2  62.0      0      0   9.6875     1  1  0\n",
       "3          895       3  27.0      0      0   8.6625     1  0  1\n",
       "4          896       3  22.0      1      1  12.2875     0  0  1"
      ]
     },
     "execution_count": 28,
     "metadata": {},
     "output_type": "execute_result"
    }
   ],
   "source": [
    "test_df.head()"
   ]
  },
  {
   "cell_type": "code",
   "execution_count": 29,
   "id": "composite-compensation",
   "metadata": {
    "execution": {
     "iopub.execute_input": "2021-05-14T18:05:20.413510Z",
     "iopub.status.busy": "2021-05-14T18:05:20.412794Z",
     "iopub.status.idle": "2021-05-14T18:05:20.428065Z",
     "shell.execute_reply": "2021-05-14T18:05:20.427516Z"
    },
    "papermill": {
     "duration": 0.058195,
     "end_time": "2021-05-14T18:05:20.428225",
     "exception": false,
     "start_time": "2021-05-14T18:05:20.370030",
     "status": "completed"
    },
    "tags": []
   },
   "outputs": [
    {
     "data": {
      "text/html": [
       "<div>\n",
       "<style scoped>\n",
       "    .dataframe tbody tr th:only-of-type {\n",
       "        vertical-align: middle;\n",
       "    }\n",
       "\n",
       "    .dataframe tbody tr th {\n",
       "        vertical-align: top;\n",
       "    }\n",
       "\n",
       "    .dataframe thead th {\n",
       "        text-align: right;\n",
       "    }\n",
       "</style>\n",
       "<table border=\"1\" class=\"dataframe\">\n",
       "  <thead>\n",
       "    <tr style=\"text-align: right;\">\n",
       "      <th></th>\n",
       "      <th>Survived</th>\n",
       "      <th>Pclass</th>\n",
       "      <th>Age</th>\n",
       "      <th>SibSp</th>\n",
       "      <th>Parch</th>\n",
       "      <th>Fare</th>\n",
       "      <th>male</th>\n",
       "      <th>Q</th>\n",
       "      <th>S</th>\n",
       "    </tr>\n",
       "  </thead>\n",
       "  <tbody>\n",
       "    <tr>\n",
       "      <th>0</th>\n",
       "      <td>0</td>\n",
       "      <td>3</td>\n",
       "      <td>22.0</td>\n",
       "      <td>1</td>\n",
       "      <td>0</td>\n",
       "      <td>7.2500</td>\n",
       "      <td>1</td>\n",
       "      <td>0</td>\n",
       "      <td>1</td>\n",
       "    </tr>\n",
       "    <tr>\n",
       "      <th>1</th>\n",
       "      <td>1</td>\n",
       "      <td>1</td>\n",
       "      <td>38.0</td>\n",
       "      <td>1</td>\n",
       "      <td>0</td>\n",
       "      <td>71.2833</td>\n",
       "      <td>0</td>\n",
       "      <td>0</td>\n",
       "      <td>0</td>\n",
       "    </tr>\n",
       "    <tr>\n",
       "      <th>2</th>\n",
       "      <td>1</td>\n",
       "      <td>3</td>\n",
       "      <td>26.0</td>\n",
       "      <td>0</td>\n",
       "      <td>0</td>\n",
       "      <td>7.9250</td>\n",
       "      <td>0</td>\n",
       "      <td>0</td>\n",
       "      <td>1</td>\n",
       "    </tr>\n",
       "    <tr>\n",
       "      <th>3</th>\n",
       "      <td>1</td>\n",
       "      <td>1</td>\n",
       "      <td>35.0</td>\n",
       "      <td>1</td>\n",
       "      <td>0</td>\n",
       "      <td>53.1000</td>\n",
       "      <td>0</td>\n",
       "      <td>0</td>\n",
       "      <td>1</td>\n",
       "    </tr>\n",
       "    <tr>\n",
       "      <th>4</th>\n",
       "      <td>0</td>\n",
       "      <td>3</td>\n",
       "      <td>35.0</td>\n",
       "      <td>0</td>\n",
       "      <td>0</td>\n",
       "      <td>8.0500</td>\n",
       "      <td>1</td>\n",
       "      <td>0</td>\n",
       "      <td>1</td>\n",
       "    </tr>\n",
       "  </tbody>\n",
       "</table>\n",
       "</div>"
      ],
      "text/plain": [
       "   Survived  Pclass   Age  SibSp  Parch     Fare  male  Q  S\n",
       "0         0       3  22.0      1      0   7.2500     1  0  1\n",
       "1         1       1  38.0      1      0  71.2833     0  0  0\n",
       "2         1       3  26.0      0      0   7.9250     0  0  1\n",
       "3         1       1  35.0      1      0  53.1000     0  0  1\n",
       "4         0       3  35.0      0      0   8.0500     1  0  1"
      ]
     },
     "execution_count": 29,
     "metadata": {},
     "output_type": "execute_result"
    }
   ],
   "source": [
    "train_df.head()"
   ]
  },
  {
   "cell_type": "code",
   "execution_count": 30,
   "id": "narrative-repair",
   "metadata": {
    "execution": {
     "iopub.execute_input": "2021-05-14T18:05:20.528141Z",
     "iopub.status.busy": "2021-05-14T18:05:20.527244Z",
     "iopub.status.idle": "2021-05-14T18:05:20.530808Z",
     "shell.execute_reply": "2021-05-14T18:05:20.530128Z"
    },
    "papermill": {
     "duration": 0.055604,
     "end_time": "2021-05-14T18:05:20.530957",
     "exception": false,
     "start_time": "2021-05-14T18:05:20.475353",
     "status": "completed"
    },
    "tags": []
   },
   "outputs": [],
   "source": [
    "X=train_df.drop(\"Survived\",axis=1)"
   ]
  },
  {
   "cell_type": "code",
   "execution_count": 31,
   "id": "colored-shell",
   "metadata": {
    "execution": {
     "iopub.execute_input": "2021-05-14T18:05:20.620566Z",
     "iopub.status.busy": "2021-05-14T18:05:20.619528Z",
     "iopub.status.idle": "2021-05-14T18:05:20.622969Z",
     "shell.execute_reply": "2021-05-14T18:05:20.622389Z"
    },
    "papermill": {
     "duration": 0.049004,
     "end_time": "2021-05-14T18:05:20.623121",
     "exception": false,
     "start_time": "2021-05-14T18:05:20.574117",
     "status": "completed"
    },
    "tags": []
   },
   "outputs": [],
   "source": [
    "y=train_df.Survived"
   ]
  },
  {
   "cell_type": "code",
   "execution_count": 32,
   "id": "royal-filling",
   "metadata": {
    "execution": {
     "iopub.execute_input": "2021-05-14T18:05:20.709862Z",
     "iopub.status.busy": "2021-05-14T18:05:20.709066Z",
     "iopub.status.idle": "2021-05-14T18:05:20.951384Z",
     "shell.execute_reply": "2021-05-14T18:05:20.950656Z"
    },
    "papermill": {
     "duration": 0.287662,
     "end_time": "2021-05-14T18:05:20.951548",
     "exception": false,
     "start_time": "2021-05-14T18:05:20.663886",
     "status": "completed"
    },
    "tags": []
   },
   "outputs": [],
   "source": [
    "from sklearn.model_selection import train_test_split"
   ]
  },
  {
   "cell_type": "code",
   "execution_count": 33,
   "id": "corrected-catalog",
   "metadata": {
    "execution": {
     "iopub.execute_input": "2021-05-14T18:05:21.041560Z",
     "iopub.status.busy": "2021-05-14T18:05:21.040725Z",
     "iopub.status.idle": "2021-05-14T18:05:21.045075Z",
     "shell.execute_reply": "2021-05-14T18:05:21.044432Z"
    },
    "papermill": {
     "duration": 0.052869,
     "end_time": "2021-05-14T18:05:21.045230",
     "exception": false,
     "start_time": "2021-05-14T18:05:20.992361",
     "status": "completed"
    },
    "tags": []
   },
   "outputs": [],
   "source": [
    "X_train, X_test, y_train, y_test = train_test_split(X, y, test_size=0.3)"
   ]
  },
  {
   "cell_type": "code",
   "execution_count": 34,
   "id": "fossil-speech",
   "metadata": {
    "execution": {
     "iopub.execute_input": "2021-05-14T18:05:21.133911Z",
     "iopub.status.busy": "2021-05-14T18:05:21.132989Z",
     "iopub.status.idle": "2021-05-14T18:05:21.255129Z",
     "shell.execute_reply": "2021-05-14T18:05:21.254392Z"
    },
    "papermill": {
     "duration": 0.16884,
     "end_time": "2021-05-14T18:05:21.255332",
     "exception": false,
     "start_time": "2021-05-14T18:05:21.086492",
     "status": "completed"
    },
    "tags": []
   },
   "outputs": [],
   "source": [
    "from sklearn.linear_model import LogisticRegression "
   ]
  },
  {
   "cell_type": "code",
   "execution_count": 35,
   "id": "certified-neighborhood",
   "metadata": {
    "execution": {
     "iopub.execute_input": "2021-05-14T18:05:21.346826Z",
     "iopub.status.busy": "2021-05-14T18:05:21.345909Z",
     "iopub.status.idle": "2021-05-14T18:05:21.348824Z",
     "shell.execute_reply": "2021-05-14T18:05:21.349361Z"
    },
    "papermill": {
     "duration": 0.051971,
     "end_time": "2021-05-14T18:05:21.349561",
     "exception": false,
     "start_time": "2021-05-14T18:05:21.297590",
     "status": "completed"
    },
    "tags": []
   },
   "outputs": [],
   "source": [
    "lr=LogisticRegression()"
   ]
  },
  {
   "cell_type": "code",
   "execution_count": 36,
   "id": "interpreted-debate",
   "metadata": {
    "execution": {
     "iopub.execute_input": "2021-05-14T18:05:21.447380Z",
     "iopub.status.busy": "2021-05-14T18:05:21.440818Z",
     "iopub.status.idle": "2021-05-14T18:05:21.490894Z",
     "shell.execute_reply": "2021-05-14T18:05:21.490366Z"
    },
    "papermill": {
     "duration": 0.099545,
     "end_time": "2021-05-14T18:05:21.491044",
     "exception": false,
     "start_time": "2021-05-14T18:05:21.391499",
     "status": "completed"
    },
    "tags": []
   },
   "outputs": [
    {
     "name": "stderr",
     "output_type": "stream",
     "text": [
      "/opt/conda/lib/python3.7/site-packages/sklearn/linear_model/_logistic.py:765: ConvergenceWarning: lbfgs failed to converge (status=1):\n",
      "STOP: TOTAL NO. of ITERATIONS REACHED LIMIT.\n",
      "\n",
      "Increase the number of iterations (max_iter) or scale the data as shown in:\n",
      "    https://scikit-learn.org/stable/modules/preprocessing.html\n",
      "Please also refer to the documentation for alternative solver options:\n",
      "    https://scikit-learn.org/stable/modules/linear_model.html#logistic-regression\n",
      "  extra_warning_msg=_LOGISTIC_SOLVER_CONVERGENCE_MSG)\n"
     ]
    },
    {
     "data": {
      "text/plain": [
       "LogisticRegression()"
      ]
     },
     "execution_count": 36,
     "metadata": {},
     "output_type": "execute_result"
    }
   ],
   "source": [
    "lr.fit(X_train,y_train)"
   ]
  },
  {
   "cell_type": "code",
   "execution_count": 37,
   "id": "administrative-pierre",
   "metadata": {
    "execution": {
     "iopub.execute_input": "2021-05-14T18:05:21.586827Z",
     "iopub.status.busy": "2021-05-14T18:05:21.585825Z",
     "iopub.status.idle": "2021-05-14T18:05:21.589941Z",
     "shell.execute_reply": "2021-05-14T18:05:21.590412Z"
    },
    "papermill": {
     "duration": 0.056904,
     "end_time": "2021-05-14T18:05:21.590594",
     "exception": false,
     "start_time": "2021-05-14T18:05:21.533690",
     "status": "completed"
    },
    "tags": []
   },
   "outputs": [
    {
     "data": {
      "text/plain": [
       "0.7790262172284644"
      ]
     },
     "execution_count": 37,
     "metadata": {},
     "output_type": "execute_result"
    }
   ],
   "source": [
    "lr.score(X_test,y_test)"
   ]
  },
  {
   "cell_type": "code",
   "execution_count": 38,
   "id": "marked-diabetes",
   "metadata": {
    "execution": {
     "iopub.execute_input": "2021-05-14T18:05:21.686104Z",
     "iopub.status.busy": "2021-05-14T18:05:21.685207Z",
     "iopub.status.idle": "2021-05-14T18:05:21.689681Z",
     "shell.execute_reply": "2021-05-14T18:05:21.689027Z"
    },
    "papermill": {
     "duration": 0.05571,
     "end_time": "2021-05-14T18:05:21.689834",
     "exception": false,
     "start_time": "2021-05-14T18:05:21.634124",
     "status": "completed"
    },
    "tags": []
   },
   "outputs": [],
   "source": [
    "predict=lr.predict(test_df.drop(\"PassengerId\",axis=1))"
   ]
  },
  {
   "cell_type": "code",
   "execution_count": 39,
   "id": "native-update",
   "metadata": {
    "execution": {
     "iopub.execute_input": "2021-05-14T18:05:21.781372Z",
     "iopub.status.busy": "2021-05-14T18:05:21.780662Z",
     "iopub.status.idle": "2021-05-14T18:05:21.783532Z",
     "shell.execute_reply": "2021-05-14T18:05:21.784122Z"
    },
    "papermill": {
     "duration": 0.0518,
     "end_time": "2021-05-14T18:05:21.784321",
     "exception": false,
     "start_time": "2021-05-14T18:05:21.732521",
     "status": "completed"
    },
    "tags": []
   },
   "outputs": [],
   "source": [
    "submission=pd.DataFrame(data=predict,columns=['Survived'])"
   ]
  },
  {
   "cell_type": "code",
   "execution_count": 40,
   "id": "virgin-alexandria",
   "metadata": {
    "execution": {
     "iopub.execute_input": "2021-05-14T18:05:21.877726Z",
     "iopub.status.busy": "2021-05-14T18:05:21.876871Z",
     "iopub.status.idle": "2021-05-14T18:05:21.882215Z",
     "shell.execute_reply": "2021-05-14T18:05:21.881514Z"
    },
    "papermill": {
     "duration": 0.055441,
     "end_time": "2021-05-14T18:05:21.882389",
     "exception": false,
     "start_time": "2021-05-14T18:05:21.826948",
     "status": "completed"
    },
    "tags": []
   },
   "outputs": [],
   "source": [
    "submission[\"PassengerId\"]=test_df[\"PassengerId\"]"
   ]
  },
  {
   "cell_type": "code",
   "execution_count": 41,
   "id": "suitable-internet",
   "metadata": {
    "execution": {
     "iopub.execute_input": "2021-05-14T18:05:21.977919Z",
     "iopub.status.busy": "2021-05-14T18:05:21.976934Z",
     "iopub.status.idle": "2021-05-14T18:05:21.980068Z",
     "shell.execute_reply": "2021-05-14T18:05:21.979499Z"
    },
    "papermill": {
     "duration": 0.053537,
     "end_time": "2021-05-14T18:05:21.980206",
     "exception": false,
     "start_time": "2021-05-14T18:05:21.926669",
     "status": "completed"
    },
    "tags": []
   },
   "outputs": [],
   "source": [
    "# submission.set_index(\"PassengerId\",inplace=True)\n",
    "submission=submission[['PassengerId','Survived']]\n"
   ]
  },
  {
   "cell_type": "code",
   "execution_count": 42,
   "id": "considerable-induction",
   "metadata": {
    "execution": {
     "iopub.execute_input": "2021-05-14T18:05:22.073430Z",
     "iopub.status.busy": "2021-05-14T18:05:22.072391Z",
     "iopub.status.idle": "2021-05-14T18:05:22.076066Z",
     "shell.execute_reply": "2021-05-14T18:05:22.075520Z"
    },
    "papermill": {
     "duration": 0.052296,
     "end_time": "2021-05-14T18:05:22.076217",
     "exception": false,
     "start_time": "2021-05-14T18:05:22.023921",
     "status": "completed"
    },
    "tags": []
   },
   "outputs": [],
   "source": [
    "# submission.index"
   ]
  },
  {
   "cell_type": "code",
   "execution_count": 43,
   "id": "pleasant-religion",
   "metadata": {
    "execution": {
     "iopub.execute_input": "2021-05-14T18:05:22.171282Z",
     "iopub.status.busy": "2021-05-14T18:05:22.170582Z",
     "iopub.status.idle": "2021-05-14T18:05:22.175544Z",
     "shell.execute_reply": "2021-05-14T18:05:22.176086Z"
    },
    "papermill": {
     "duration": 0.054223,
     "end_time": "2021-05-14T18:05:22.176287",
     "exception": false,
     "start_time": "2021-05-14T18:05:22.122064",
     "status": "completed"
    },
    "tags": []
   },
   "outputs": [],
   "source": [
    "# submission.head()\n",
    "submission.set_index(\"PassengerId\",inplace=True)\n"
   ]
  },
  {
   "cell_type": "code",
   "execution_count": 44,
   "id": "affecting-peoples",
   "metadata": {
    "execution": {
     "iopub.execute_input": "2021-05-14T18:05:22.267632Z",
     "iopub.status.busy": "2021-05-14T18:05:22.266865Z",
     "iopub.status.idle": "2021-05-14T18:05:22.278554Z",
     "shell.execute_reply": "2021-05-14T18:05:22.277732Z"
    },
    "papermill": {
     "duration": 0.059067,
     "end_time": "2021-05-14T18:05:22.278720",
     "exception": false,
     "start_time": "2021-05-14T18:05:22.219653",
     "status": "completed"
    },
    "tags": []
   },
   "outputs": [],
   "source": [
    "submission.to_csv(\"submission.csv\")"
   ]
  },
  {
   "cell_type": "code",
   "execution_count": 45,
   "id": "italian-surrey",
   "metadata": {
    "execution": {
     "iopub.execute_input": "2021-05-14T18:05:22.374462Z",
     "iopub.status.busy": "2021-05-14T18:05:22.373763Z",
     "iopub.status.idle": "2021-05-14T18:05:22.376795Z",
     "shell.execute_reply": "2021-05-14T18:05:22.377239Z"
    },
    "papermill": {
     "duration": 0.055323,
     "end_time": "2021-05-14T18:05:22.377452",
     "exception": false,
     "start_time": "2021-05-14T18:05:22.322129",
     "status": "completed"
    },
    "tags": []
   },
   "outputs": [
    {
     "data": {
      "text/html": [
       "<div>\n",
       "<style scoped>\n",
       "    .dataframe tbody tr th:only-of-type {\n",
       "        vertical-align: middle;\n",
       "    }\n",
       "\n",
       "    .dataframe tbody tr th {\n",
       "        vertical-align: top;\n",
       "    }\n",
       "\n",
       "    .dataframe thead th {\n",
       "        text-align: right;\n",
       "    }\n",
       "</style>\n",
       "<table border=\"1\" class=\"dataframe\">\n",
       "  <thead>\n",
       "    <tr style=\"text-align: right;\">\n",
       "      <th></th>\n",
       "      <th>Survived</th>\n",
       "    </tr>\n",
       "    <tr>\n",
       "      <th>PassengerId</th>\n",
       "      <th></th>\n",
       "    </tr>\n",
       "  </thead>\n",
       "  <tbody>\n",
       "    <tr>\n",
       "      <th>892</th>\n",
       "      <td>0</td>\n",
       "    </tr>\n",
       "    <tr>\n",
       "      <th>893</th>\n",
       "      <td>0</td>\n",
       "    </tr>\n",
       "    <tr>\n",
       "      <th>894</th>\n",
       "      <td>0</td>\n",
       "    </tr>\n",
       "    <tr>\n",
       "      <th>895</th>\n",
       "      <td>0</td>\n",
       "    </tr>\n",
       "    <tr>\n",
       "      <th>896</th>\n",
       "      <td>1</td>\n",
       "    </tr>\n",
       "  </tbody>\n",
       "</table>\n",
       "</div>"
      ],
      "text/plain": [
       "             Survived\n",
       "PassengerId          \n",
       "892                 0\n",
       "893                 0\n",
       "894                 0\n",
       "895                 0\n",
       "896                 1"
      ]
     },
     "execution_count": 45,
     "metadata": {},
     "output_type": "execute_result"
    }
   ],
   "source": [
    "submission.head()"
   ]
  },
  {
   "cell_type": "code",
   "execution_count": null,
   "id": "prepared-processing",
   "metadata": {
    "papermill": {
     "duration": 0.043388,
     "end_time": "2021-05-14T18:05:22.465360",
     "exception": false,
     "start_time": "2021-05-14T18:05:22.421972",
     "status": "completed"
    },
    "tags": []
   },
   "outputs": [],
   "source": []
  }
 ],
 "metadata": {
  "kernelspec": {
   "display_name": "Python 3",
   "language": "python",
   "name": "python3"
  },
  "language_info": {
   "codemirror_mode": {
    "name": "ipython",
    "version": 3
   },
   "file_extension": ".py",
   "mimetype": "text/x-python",
   "name": "python",
   "nbconvert_exporter": "python",
   "pygments_lexer": "ipython3",
   "version": "3.7.10"
  },
  "papermill": {
   "default_parameters": {},
   "duration": 15.818425,
   "end_time": "2021-05-14T18:05:23.322107",
   "environment_variables": {},
   "exception": null,
   "input_path": "__notebook__.ipynb",
   "output_path": "__notebook__.ipynb",
   "parameters": {},
   "start_time": "2021-05-14T18:05:07.503682",
   "version": "2.3.3"
  }
 },
 "nbformat": 4,
 "nbformat_minor": 5
}
